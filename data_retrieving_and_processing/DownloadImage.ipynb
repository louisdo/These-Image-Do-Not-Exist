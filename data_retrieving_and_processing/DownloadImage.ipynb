{
  "cells": [
    {
      "cell_type": "code",
      "source": [
        "import requests, json, os, multiprocessing\n",
        "from tqdm import tqdm\n",
        "from multiprocessing import Pool"
      ],
      "outputs": [],
      "execution_count": 3,
      "metadata": {
        "id": "AQEduH7kD0aj",
        "executionInfo": {
          "status": "ok",
          "timestamp": 1638867330241,
          "user_tz": -420,
          "elapsed": 4,
          "user": {
            "displayName": "Lâm Đỗ",
            "photoUrl": "https://lh3.googleusercontent.com/a-/AOh14GgK6fSJsSqDnkUNhBqy3UKr_pEv1qpZhEhWge39bA=s64",
            "userId": "18103864874454458300"
          }
        },
        "gather": {
          "logged": 1638868642974
        }
      }
    },
    {
      "cell_type": "code",
      "source": [
        "multiprocessing.cpu_count()"
      ],
      "outputs": [
        {
          "output_type": "execute_result",
          "execution_count": 4,
          "data": {
            "text/plain": "2"
          },
          "metadata": {}
        }
      ],
      "execution_count": 4,
      "metadata": {
        "jupyter": {
          "source_hidden": false,
          "outputs_hidden": false
        },
        "nteract": {
          "transient": {
            "deleting": false
          }
        },
        "gather": {
          "logged": 1638868643490
        }
      }
    },
    {
      "cell_type": "code",
      "source": [
        "def download_image(url, where_to):\n",
        "    response = requests.get(url)\n",
        "\n",
        "    file = open(where_to, \"wb\")\n",
        "    file.write(response.content)\n",
        "    file.close()\n",
        "\n",
        "def download_image_with_dp(dp):\n",
        "    url = dp[\"url\"]\n",
        "    photo_id = dp[\"id\"]\n",
        "    where_to = os.path.join(DATA_FOLDER, photo_id + \".jpg\")\n",
        "    download_image(url, where_to)"
      ],
      "outputs": [],
      "execution_count": 5,
      "metadata": {
        "id": "YOophHuUEUd6",
        "executionInfo": {
          "status": "ok",
          "timestamp": 1638867109666,
          "user_tz": -420,
          "elapsed": 405,
          "user": {
            "displayName": "Lâm Đỗ",
            "photoUrl": "https://lh3.googleusercontent.com/a-/AOh14GgK6fSJsSqDnkUNhBqy3UKr_pEv1qpZhEhWge39bA=s64",
            "userId": "18103864874454458300"
          }
        },
        "gather": {
          "logged": 1638868765838
        }
      }
    },
    {
      "cell_type": "code",
      "source": [
        "with open(\"../data/image_info_data.json\", \"r\") as f:\n",
        "    DATA_CATEGORIES = json.load(f)"
      ],
      "outputs": [],
      "execution_count": 6,
      "metadata": {
        "id": "Eqnn48hxF95t",
        "executionInfo": {
          "status": "ok",
          "timestamp": 1638867198771,
          "user_tz": -420,
          "elapsed": 1320,
          "user": {
            "displayName": "Lâm Đỗ",
            "photoUrl": "https://lh3.googleusercontent.com/a-/AOh14GgK6fSJsSqDnkUNhBqy3UKr_pEv1qpZhEhWge39bA=s64",
            "userId": "18103864874454458300"
          }
        },
        "gather": {
          "logged": 1638868766451
        }
      }
    },
    {
      "cell_type": "code",
      "source": [
        "categories = [str(i) for i in range(5)]"
      ],
      "outputs": [],
      "execution_count": 7,
      "metadata": {
        "id": "DxngGYgwGHdF",
        "executionInfo": {
          "status": "ok",
          "timestamp": 1638867267199,
          "user_tz": -420,
          "elapsed": 441,
          "user": {
            "displayName": "Lâm Đỗ",
            "photoUrl": "https://lh3.googleusercontent.com/a-/AOh14GgK6fSJsSqDnkUNhBqy3UKr_pEv1qpZhEhWge39bA=s64",
            "userId": "18103864874454458300"
          }
        },
        "gather": {
          "logged": 1638868768195
        }
      }
    },
    {
      "cell_type": "code",
      "source": [
        "DATA_FOLDER = \"../data/image_folder\"\n",
        "for c in categories:\n",
        "    with Pool(8) as p:\n",
        "        _ = list(tqdm(p.imap(download_image_with_dp, DATA_CATEGORIES[c])))"
      ],
      "outputs": [
        {
          "output_type": "stream",
          "name": "stderr",
          "text": "15964it [16:47, 15.85it/s]\n15909it [16:39, 15.92it/s]\n15592it [17:42, 14.67it/s]\n15863it [14:56, 17.70it/s]\n15767it [16:16, 16.15it/s]\n"
        }
      ],
      "execution_count": 8,
      "metadata": {
        "colab": {
          "base_uri": "https://localhost:8080/",
          "height": 450
        },
        "id": "GmqN6NuYGQBX",
        "executionInfo": {
          "status": "error",
          "timestamp": 1638867383977,
          "user_tz": -420,
          "elapsed": 2704,
          "user": {
            "displayName": "Lâm Đỗ",
            "photoUrl": "https://lh3.googleusercontent.com/a-/AOh14GgK6fSJsSqDnkUNhBqy3UKr_pEv1qpZhEhWge39bA=s64",
            "userId": "18103864874454458300"
          }
        },
        "outputId": "e7edcf0a-56f5-44ec-bcc4-df00d18f8531",
        "gather": {
          "logged": 1638873714201
        }
      }
    },
    {
      "cell_type": "code",
      "source": [],
      "outputs": [],
      "execution_count": null,
      "metadata": {
        "id": "P3Qoo370G4Is"
      }
    }
  ],
  "metadata": {
    "colab": {
      "name": "DownloadImage.ipynb",
      "provenance": [],
      "collapsed_sections": [],
      "mount_file_id": "1cZBf0ntD6L-hwzpRYc219bkiPiTCxJCh",
      "authorship_tag": "ABX9TyN7Nz60oX1bGgl8nEP/tvfL"
    },
    "kernelspec": {
      "name": "python3",
      "language": "python",
      "display_name": "Python 3"
    },
    "language_info": {
      "name": "python",
      "version": "3.6.9",
      "mimetype": "text/x-python",
      "codemirror_mode": {
        "name": "ipython",
        "version": 3
      },
      "pygments_lexer": "ipython3",
      "nbconvert_exporter": "python",
      "file_extension": ".py"
    },
    "kernel_info": {
      "name": "python3"
    },
    "microsoft": {
      "host": {
        "AzureML": {
          "notebookHasBeenCompleted": true
        }
      }
    },
    "nteract": {
      "version": "nteract-front-end@1.0.0"
    }
  },
  "nbformat": 4,
  "nbformat_minor": 0
}